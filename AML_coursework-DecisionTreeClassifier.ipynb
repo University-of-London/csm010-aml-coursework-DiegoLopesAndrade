{
 "cells": [
  {
   "cell_type": "markdown",
   "metadata": {},
   "source": [
    "# AML Coursework"
   ]
  },
  {
   "cell_type": "markdown",
   "metadata": {},
   "source": [
    "# The Data - Surfing"
   ]
  },
  {
   "cell_type": "markdown",
   "metadata": {},
   "source": [
    "Surfing is important for many people's lives for several reasons. Here are a few key aspects that highlight the significance of surfing:\n",
    "\n",
    "Physical Health: Surfing is an excellent form of exercise that engages the entire body. Paddling out to the waves builds upper body strength and cardiovascular endurance. Balancing on the board enhances core stability and leg strength. Regular surfing can contribute to improved overall fitness, flexibility, and coordination.\n",
    "\n",
    "Mental Well-being: Surfing is known to have a positive impact on mental health. The combination of being in nature, the rhythmic movement of the waves, and the feeling of riding a wave can be meditative and stress-relieving. Surfing provides an opportunity to escape the pressures of daily life, allowing individuals to recharge and find peace of mind.\n",
    "\n",
    "Connection with Nature: Surfing allows people to connect with the ocean and the natural environment. Being in the water, surrounded by the vastness of the ocean, can create a sense of awe and humility. It provides an opportunity to observe marine life, experience the changing tides, and appreciate the beauty of the coastal landscapes. This connection with nature can foster a greater sense of environmental stewardship.\n",
    "\n",
    "Community and Social Bonding: Surfing is often enjoyed as a social activity, whether it's with friends, family, or fellow surfers. Surfing communities are prevalent in many coastal regions, creating a sense of belonging and camaraderie. The shared experiences, stories, and support among surfers contribute to a strong community spirit.\n",
    "\n",
    "The Dataset we're working can be found at the following address:\n",
    "https://www.kaggle.com/datasets/loureiro85/surfing\n",
    "\n",
    "Content\n",
    "Data was acquired through online forms answered by surfers.\n",
    "Rows correspond to surfers and columns to questions.\n",
    "The dataset corresponds to the surfing system, composed of five groups of data:\n",
    "\n",
    "Surfboard, Wave, Surfer, Manoeuvres, Performance\n"
   ]
  },
  {
   "cell_type": "markdown",
   "metadata": {},
   "source": [
    "# Contructing and Selecting Features"
   ]
  },
  {
   "cell_type": "code",
   "execution_count": 40,
   "metadata": {
    "scrolled": true
   },
   "outputs": [],
   "source": [
    "# importing libraries  \n",
    "import numpy as nm  \n",
    "import matplotlib.pyplot as mtp  \n",
    "import pandas as pd  \n",
    "\n",
    "#importing datasets  \n",
    "data_set= pd.read_csv('data/df_surf.csv')  \n",
    "  \n",
    "#Extracting Independent and dependent Variable  \n",
    "x= data_set.iloc[:, [2,3]].values  \n",
    "y= data_set.iloc[:, 4].values  \n",
    "  \n",
    "# Splitting the dataset into training and test set.  \n",
    "from sklearn.model_selection import train_test_split  \n",
    "x_train, x_test, y_train, y_test= train_test_split(x, y, test_size= 0.25, random_state=0)  \n",
    "  \n",
    "#feature Scaling  \n",
    "from sklearn.preprocessing import StandardScaler    \n",
    "st_x= StandardScaler()  \n",
    "x_train= st_x.fit_transform(x_train)    \n",
    "x_test= st_x.transform(x_test)    "
   ]
  },
  {
   "cell_type": "markdown",
   "metadata": {},
   "source": [
    "# Building ML algorithms"
   ]
  },
  {
   "cell_type": "code",
   "execution_count": 41,
   "metadata": {},
   "outputs": [
    {
     "data": {
      "text/html": [
       "<div>\n",
       "<style scoped>\n",
       "    .dataframe tbody tr th:only-of-type {\n",
       "        vertical-align: middle;\n",
       "    }\n",
       "\n",
       "    .dataframe tbody tr th {\n",
       "        vertical-align: top;\n",
       "    }\n",
       "\n",
       "    .dataframe thead th {\n",
       "        text-align: right;\n",
       "    }\n",
       "</style>\n",
       "<table border=\"1\" class=\"dataframe\">\n",
       "  <thead>\n",
       "    <tr style=\"text-align: right;\">\n",
       "      <th></th>\n",
       "      <th>board_how_many</th>\n",
       "      <th>surfer_height</th>\n",
       "      <th>surfer_weight</th>\n",
       "      <th>board_length</th>\n",
       "      <th>appropriate_board</th>\n",
       "      <th>surfer_age</th>\n",
       "      <th>board_volume</th>\n",
       "      <th>board_width</th>\n",
       "      <th>wave_height</th>\n",
       "      <th>wave_height_min</th>\n",
       "      <th>wave_height_max</th>\n",
       "      <th>wave_height_mean</th>\n",
       "      <th>wave_height_interval</th>\n",
       "    </tr>\n",
       "  </thead>\n",
       "  <tbody>\n",
       "    <tr>\n",
       "      <th>0</th>\n",
       "      <td>5</td>\n",
       "      <td>1.72</td>\n",
       "      <td>85.0</td>\n",
       "      <td>5.6</td>\n",
       "      <td>0</td>\n",
       "      <td>32</td>\n",
       "      <td>26.7</td>\n",
       "      <td>18.3</td>\n",
       "      <td>3</td>\n",
       "      <td>3</td>\n",
       "      <td>3</td>\n",
       "      <td>3.0</td>\n",
       "      <td>0</td>\n",
       "    </tr>\n",
       "    <tr>\n",
       "      <th>1</th>\n",
       "      <td>1</td>\n",
       "      <td>1.58</td>\n",
       "      <td>88.0</td>\n",
       "      <td>5.7</td>\n",
       "      <td>0</td>\n",
       "      <td>31</td>\n",
       "      <td>26.7</td>\n",
       "      <td>18.3</td>\n",
       "      <td>2</td>\n",
       "      <td>2</td>\n",
       "      <td>2</td>\n",
       "      <td>2.0</td>\n",
       "      <td>0</td>\n",
       "    </tr>\n",
       "    <tr>\n",
       "      <th>2</th>\n",
       "      <td>3</td>\n",
       "      <td>1.73</td>\n",
       "      <td>75.0</td>\n",
       "      <td>6.2</td>\n",
       "      <td>1</td>\n",
       "      <td>29</td>\n",
       "      <td>30.5</td>\n",
       "      <td>20.4</td>\n",
       "      <td>2</td>\n",
       "      <td>2</td>\n",
       "      <td>5</td>\n",
       "      <td>3.5</td>\n",
       "      <td>3</td>\n",
       "    </tr>\n",
       "    <tr>\n",
       "      <th>3</th>\n",
       "      <td>1</td>\n",
       "      <td>1.76</td>\n",
       "      <td>76.0</td>\n",
       "      <td>6.2</td>\n",
       "      <td>1</td>\n",
       "      <td>34</td>\n",
       "      <td>30.6</td>\n",
       "      <td>19.4</td>\n",
       "      <td>2</td>\n",
       "      <td>3</td>\n",
       "      <td>6</td>\n",
       "      <td>4.5</td>\n",
       "      <td>3</td>\n",
       "    </tr>\n",
       "    <tr>\n",
       "      <th>4</th>\n",
       "      <td>5</td>\n",
       "      <td>1.77</td>\n",
       "      <td>84.0</td>\n",
       "      <td>6.2</td>\n",
       "      <td>1</td>\n",
       "      <td>53</td>\n",
       "      <td>30.6</td>\n",
       "      <td>19.4</td>\n",
       "      <td>5</td>\n",
       "      <td>5</td>\n",
       "      <td>5</td>\n",
       "      <td>5.0</td>\n",
       "      <td>0</td>\n",
       "    </tr>\n",
       "    <tr>\n",
       "      <th>...</th>\n",
       "      <td>...</td>\n",
       "      <td>...</td>\n",
       "      <td>...</td>\n",
       "      <td>...</td>\n",
       "      <td>...</td>\n",
       "      <td>...</td>\n",
       "      <td>...</td>\n",
       "      <td>...</td>\n",
       "      <td>...</td>\n",
       "      <td>...</td>\n",
       "      <td>...</td>\n",
       "      <td>...</td>\n",
       "      <td>...</td>\n",
       "    </tr>\n",
       "    <tr>\n",
       "      <th>154</th>\n",
       "      <td>3</td>\n",
       "      <td>1.83</td>\n",
       "      <td>83.0</td>\n",
       "      <td>6.1</td>\n",
       "      <td>1</td>\n",
       "      <td>33</td>\n",
       "      <td>33.0</td>\n",
       "      <td>19.5</td>\n",
       "      <td>3</td>\n",
       "      <td>3</td>\n",
       "      <td>3</td>\n",
       "      <td>3.0</td>\n",
       "      <td>0</td>\n",
       "    </tr>\n",
       "    <tr>\n",
       "      <th>155</th>\n",
       "      <td>3</td>\n",
       "      <td>1.75</td>\n",
       "      <td>90.0</td>\n",
       "      <td>5.2</td>\n",
       "      <td>0</td>\n",
       "      <td>37</td>\n",
       "      <td>24.6</td>\n",
       "      <td>18.8</td>\n",
       "      <td>4</td>\n",
       "      <td>4</td>\n",
       "      <td>4</td>\n",
       "      <td>4.0</td>\n",
       "      <td>0</td>\n",
       "    </tr>\n",
       "    <tr>\n",
       "      <th>156</th>\n",
       "      <td>1</td>\n",
       "      <td>1.78</td>\n",
       "      <td>91.0</td>\n",
       "      <td>5.2</td>\n",
       "      <td>0</td>\n",
       "      <td>29</td>\n",
       "      <td>24.6</td>\n",
       "      <td>18.8</td>\n",
       "      <td>2</td>\n",
       "      <td>2</td>\n",
       "      <td>3</td>\n",
       "      <td>2.5</td>\n",
       "      <td>1</td>\n",
       "    </tr>\n",
       "    <tr>\n",
       "      <th>157</th>\n",
       "      <td>6</td>\n",
       "      <td>1.73</td>\n",
       "      <td>92.0</td>\n",
       "      <td>5.2</td>\n",
       "      <td>0</td>\n",
       "      <td>24</td>\n",
       "      <td>24.6</td>\n",
       "      <td>18.8</td>\n",
       "      <td>3</td>\n",
       "      <td>3</td>\n",
       "      <td>4</td>\n",
       "      <td>3.5</td>\n",
       "      <td>1</td>\n",
       "    </tr>\n",
       "    <tr>\n",
       "      <th>158</th>\n",
       "      <td>1</td>\n",
       "      <td>1.81</td>\n",
       "      <td>94.0</td>\n",
       "      <td>5.2</td>\n",
       "      <td>0</td>\n",
       "      <td>25</td>\n",
       "      <td>26.0</td>\n",
       "      <td>18.8</td>\n",
       "      <td>4</td>\n",
       "      <td>4</td>\n",
       "      <td>4</td>\n",
       "      <td>4.0</td>\n",
       "      <td>0</td>\n",
       "    </tr>\n",
       "  </tbody>\n",
       "</table>\n",
       "<p>159 rows × 13 columns</p>\n",
       "</div>"
      ],
      "text/plain": [
       "     board_how_many  surfer_height  surfer_weight  board_length  \\\n",
       "0                 5           1.72           85.0           5.6   \n",
       "1                 1           1.58           88.0           5.7   \n",
       "2                 3           1.73           75.0           6.2   \n",
       "3                 1           1.76           76.0           6.2   \n",
       "4                 5           1.77           84.0           6.2   \n",
       "..              ...            ...            ...           ...   \n",
       "154               3           1.83           83.0           6.1   \n",
       "155               3           1.75           90.0           5.2   \n",
       "156               1           1.78           91.0           5.2   \n",
       "157               6           1.73           92.0           5.2   \n",
       "158               1           1.81           94.0           5.2   \n",
       "\n",
       "     appropriate_board  surfer_age  board_volume  board_width  wave_height  \\\n",
       "0                    0          32          26.7         18.3            3   \n",
       "1                    0          31          26.7         18.3            2   \n",
       "2                    1          29          30.5         20.4            2   \n",
       "3                    1          34          30.6         19.4            2   \n",
       "4                    1          53          30.6         19.4            5   \n",
       "..                 ...         ...           ...          ...          ...   \n",
       "154                  1          33          33.0         19.5            3   \n",
       "155                  0          37          24.6         18.8            4   \n",
       "156                  0          29          24.6         18.8            2   \n",
       "157                  0          24          24.6         18.8            3   \n",
       "158                  0          25          26.0         18.8            4   \n",
       "\n",
       "     wave_height_min  wave_height_max  wave_height_mean  wave_height_interval  \n",
       "0                  3                3               3.0                     0  \n",
       "1                  2                2               2.0                     0  \n",
       "2                  2                5               3.5                     3  \n",
       "3                  3                6               4.5                     3  \n",
       "4                  5                5               5.0                     0  \n",
       "..               ...              ...               ...                   ...  \n",
       "154                3                3               3.0                     0  \n",
       "155                4                4               4.0                     0  \n",
       "156                2                3               2.5                     1  \n",
       "157                3                4               3.5                     1  \n",
       "158                4                4               4.0                     0  \n",
       "\n",
       "[159 rows x 13 columns]"
      ]
     },
     "execution_count": 41,
     "metadata": {},
     "output_type": "execute_result"
    }
   ],
   "source": [
    "#Fitting Decision Tree classifier to the training set  \n",
    "from sklearn.tree import DecisionTreeClassifier  \n",
    "classifier= DecisionTreeClassifier(criterion='entropy', random_state=0)  \n",
    "classifier.fit(x_train, y_train)  \n",
    "\n",
    "data_set.fillna(data_set.mean())"
   ]
  },
  {
   "cell_type": "code",
   "execution_count": 42,
   "metadata": {},
   "outputs": [
    {
     "name": "stdout",
     "output_type": "stream",
     "text": [
      "0.5\n"
     ]
    }
   ],
   "source": [
    "#Predicting the test set result  \n",
    "y_pred= classifier.predict(x_test)  \n",
    "\n",
    "print(y_pred.mean())"
   ]
  },
  {
   "cell_type": "markdown",
   "metadata": {},
   "source": [
    "# Evaluating models and analysing the results"
   ]
  },
  {
   "cell_type": "code",
   "execution_count": 43,
   "metadata": {},
   "outputs": [
    {
     "name": "stdout",
     "output_type": "stream",
     "text": [
      "10.0\n"
     ]
    }
   ],
   "source": [
    "#Creating the Confusion matrix  \n",
    "from sklearn.metrics import confusion_matrix  \n",
    "cm= confusion_matrix(y_test, y_pred)  \n",
    "\n",
    "print(cm.mean())"
   ]
  },
  {
   "cell_type": "code",
   "execution_count": 44,
   "metadata": {},
   "outputs": [
    {
     "name": "stderr",
     "output_type": "stream",
     "text": [
      "*c* argument looks like a single numeric RGB or RGBA sequence, which should be avoided as value-mapping will have precedence in case its length matches with *x* & *y*.  Please use the *color* keyword-argument or provide a 2-D array with a single row if you intend to specify the same RGB or RGBA value for all points.\n",
      "*c* argument looks like a single numeric RGB or RGBA sequence, which should be avoided as value-mapping will have precedence in case its length matches with *x* & *y*.  Please use the *color* keyword-argument or provide a 2-D array with a single row if you intend to specify the same RGB or RGBA value for all points.\n"
     ]
    },
    {
     "data": {
      "image/png": "[encoded data removed]",
      "text/plain": [
       "<Figure size 432x288 with 1 Axes>"
      ]
     },
     "metadata": {
      "needs_background": "light"
     },
     "output_type": "display_data"
    }
   ],
   "source": [
    "#Visulaizing the trianing set result  \n",
    "from matplotlib.colors import ListedColormap  \n",
    "x_set, y_set = x_train, y_train  \n",
    "x1, x2 = nm.meshgrid(nm.arange(start = x_set[:, 0].min() - 1, stop = x_set[:, 0].max() + 1, step  =0.01),  \n",
    "nm.arange(start = x_set[:, 1].min() - 1, stop = x_set[:, 1].max() + 1, step = 0.01))  \n",
    "mtp.contourf(x1, x2, classifier.predict(nm.array([x1.ravel(), x2.ravel()]).T).reshape(x1.shape),  \n",
    "alpha = 0.75, cmap = ListedColormap(('purple','green' )))  \n",
    "mtp.xlim(x1.min(), x1.max())  \n",
    "mtp.ylim(x2.min(), x2.max())  \n",
    "for i, j in enumerate(nm.unique(y_set)):  \n",
    "    mtp.scatter(x_set[y_set == j, 0], x_set[y_set == j, 1],  \n",
    "        c = ListedColormap(('purple', 'green'))(i), label = j)  \n",
    "mtp.title('Decision Tree Algorithm (Training set)')  \n",
    "mtp.xlabel('surfer_weight')  \n",
    "mtp.ylabel('board_length')  \n",
    "mtp.legend()  \n",
    "mtp.show()  "
   ]
  },
  {
   "cell_type": "code",
   "execution_count": 45,
   "metadata": {},
   "outputs": [
    {
     "name": "stderr",
     "output_type": "stream",
     "text": [
      "*c* argument looks like a single numeric RGB or RGBA sequence, which should be avoided as value-mapping will have precedence in case its length matches with *x* & *y*.  Please use the *color* keyword-argument or provide a 2-D array with a single row if you intend to specify the same RGB or RGBA value for all points.\n",
      "*c* argument looks like a single numeric RGB or RGBA sequence, which should be avoided as value-mapping will have precedence in case its length matches with *x* & *y*.  Please use the *color* keyword-argument or provide a 2-D array with a single row if you intend to specify the same RGB or RGBA value for all points.\n"
     ]
    },
    {
     "data": {
      "image/png": "[encoded data removed]",
      "text/plain": [
       "<Figure size 432x288 with 1 Axes>"
      ]
     },
     "metadata": {
      "needs_background": "light"
     },
     "output_type": "display_data"
    }
   ],
   "source": [
    "#Visulaizing the test set result  \n",
    "from matplotlib.colors import ListedColormap  \n",
    "x_set, y_set = x_test, y_test  \n",
    "x1, x2 = nm.meshgrid(nm.arange(start = x_set[:, 0].min() - 1, stop = x_set[:, 0].max() + 1, step  =0.01),  \n",
    "nm.arange(start = x_set[:, 1].min() - 1, stop = x_set[:, 1].max() + 1, step = 0.01))  \n",
    "mtp.contourf(x1, x2, classifier.predict(nm.array([x1.ravel(), x2.ravel()]).T).reshape(x1.shape),  \n",
    "alpha = 0.75, cmap = ListedColormap(('purple','green' )))  \n",
    "mtp.xlim(x1.min(), x1.max())  \n",
    "mtp.ylim(x2.min(), x2.max())  \n",
    "for i, j in enumerate(nm.unique(y_set)):  \n",
    "    mtp.scatter(x_set[y_set == j, 0], x_set[y_set == j, 1],  \n",
    "        c = ListedColormap(('purple', 'green'))(i), label = j)  \n",
    "mtp.title('Decision Tree Algorithm(Test set)')  \n",
    "mtp.xlabel('surfer_weight')  \n",
    "mtp.ylabel('board_length')  \n",
    "mtp.legend()  \n",
    "mtp.show()  "
   ]
  }
 ],
 "metadata": {
  "kernelspec": {
   "display_name": "Python 3",
   "language": "python",
   "name": "python3"
  },
  "language_info": {
   "codemirror_mode": {
    "name": "ipython",
    "version": 3
   },
   "file_extension": ".py",
   "mimetype": "text/x-python",
   "name": "python",
   "nbconvert_exporter": "python",
   "pygments_lexer": "ipython3",
   "version": "3.6.9"
  }
 },
 "nbformat": 4,
 "nbformat_minor": 2
}
